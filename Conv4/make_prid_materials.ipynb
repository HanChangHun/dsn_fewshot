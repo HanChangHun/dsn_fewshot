{
 "cells": [
  {
   "cell_type": "code",
   "execution_count": 40,
   "id": "0ecaf664-4dd4-4220-9a91-85b047549fdf",
   "metadata": {},
   "outputs": [],
   "source": [
    "from pathlib import Path\n",
    "import csv\n",
    "import random"
   ]
  },
  {
   "cell_type": "code",
   "execution_count": 43,
   "id": "0c2fa9e2-63b2-4feb-921c-364be129cb3e",
   "metadata": {},
   "outputs": [],
   "source": [
    "dataset_dir = Path('../datasets/prid_2011/multi_shot/')\n",
    "\n",
    "cam_a_dir = dataset_dir / 'cam_a'\n",
    "cam_b_dir = dataset_dir / 'cam_b'\n",
    "\n",
    "train_cam_a_person_dirs = sorted(list(cam_a_dir.glob('*')))[:150]\n",
    "train_cam_b_person_dirs = sorted(list(cam_b_dir.glob('*')))[:150]\n",
    "val_cam_a_person_dirs = sorted(list(cam_a_dir.glob('*')))[150:200]\n",
    "val_cam_b_person_dirs = sorted(list(cam_b_dir.glob('*')))[150:200]"
   ]
  },
  {
   "cell_type": "code",
   "execution_count": 51,
   "id": "93b6c614-d966-479b-9b6c-44d51d60ecb4",
   "metadata": {},
   "outputs": [],
   "source": [
    "train_materials = []\n",
    "for i in range(len(train_cam_a_person_dirs)):\n",
    "    cam_a_person_dir = cam_a_person_dirs[i]\n",
    "    cam_b_person_dir = cam_b_person_dirs[i]\n",
    "    \n",
    "    cur_class = str(cam_a_person_dir)[-11:]\n",
    "    if cur_class != str(cam_b_person_dir)[-11:]:\n",
    "        print(\"dir name not matching...\")\n",
    "        continue\n",
    "\n",
    "    cam_a_person_data = list(cam_a_person_dir.glob(\"*.png\"))\n",
    "    cam_b_person_data = list(cam_b_person_dir.glob(\"*.png\"))\n",
    "    \n",
    "    total_length = len(cam_a_person_data) + len(cam_b_person_data)\n",
    "    \n",
    "    if total_length > 200:\n",
    "        temp = []\n",
    "        for data in cam_a_person_data:\n",
    "            temp.append([str(data).replace('../datasets/prid_2011/multi_shot/', ''), cur_class])\n",
    "        for data in cam_b_person_data:\n",
    "            temp.append([str(data).replace('../datasets/prid_2011/multi_shot/', ''), cur_class])\n",
    "        train_materials += random.sample(temp, 200)"
   ]
  },
  {
   "cell_type": "code",
   "execution_count": 52,
   "id": "ce488d03-7dba-422d-b5db-8cda74150708",
   "metadata": {},
   "outputs": [],
   "source": [
    "fields = ['filename', 'label']\n",
    "\n",
    "with open('./materials_prid/train.csv', 'w',newline='') as f: \n",
    "    write = csv.writer(f)\n",
    "    write.writerow(fields)\n",
    "    write.writerows(train_materials)"
   ]
  },
  {
   "cell_type": "code",
   "execution_count": 53,
   "id": "8db89440-167c-4427-9fcc-5470911bcdd9",
   "metadata": {},
   "outputs": [],
   "source": [
    "val_materials = []\n",
    "for i in range(len(val_cam_a_person_dirs)):\n",
    "    cam_a_person_dir = cam_a_person_dirs[i]\n",
    "    cam_b_person_dir = cam_b_person_dirs[i]\n",
    "    \n",
    "    cur_class = str(cam_a_person_dir)[-11:]\n",
    "    if cur_class != str(cam_b_person_dir)[-11:]:\n",
    "        print(\"dir name not matching...\")\n",
    "        continue\n",
    "\n",
    "    cam_a_person_data = list(cam_a_person_dir.glob(\"*.png\"))\n",
    "    cam_b_person_data = list(cam_b_person_dir.glob(\"*.png\"))\n",
    "    \n",
    "    total_length = len(cam_a_person_data) + len(cam_b_person_data)\n",
    "    if total_length > 200:\n",
    "        temp = []\n",
    "        for data in cam_a_person_data:\n",
    "            temp.append([str(data).replace('../datasets/prid_2011/multi_shot/', ''), cur_class])\n",
    "        for data in cam_b_person_data:\n",
    "            temp.append([str(data).replace('../datasets/prid_2011/multi_shot/', ''), cur_class])\n",
    "        val_materials += random.sample(temp, 200)"
   ]
  },
  {
   "cell_type": "code",
   "execution_count": 54,
   "id": "b927764e-e4a5-4280-946b-2c3cf12a1154",
   "metadata": {},
   "outputs": [],
   "source": [
    "fields = ['filename', 'label']\n",
    "\n",
    "with open('./materials_prid/val.csv', 'w',newline='') as f: \n",
    "    write = csv.writer(f)\n",
    "    write.writerow(fields)\n",
    "    write.writerows(val_materials)"
   ]
  },
  {
   "cell_type": "code",
   "execution_count": null,
   "id": "5e414d6f-a9e2-46fc-bb86-1b02beb08ea2",
   "metadata": {},
   "outputs": [],
   "source": []
  }
 ],
 "metadata": {
  "kernelspec": {
   "display_name": "pt11",
   "language": "python",
   "name": "pt11"
  },
  "language_info": {
   "codemirror_mode": {
    "name": "ipython",
    "version": 3
   },
   "file_extension": ".py",
   "mimetype": "text/x-python",
   "name": "python",
   "nbconvert_exporter": "python",
   "pygments_lexer": "ipython3",
   "version": "3.8.10"
  }
 },
 "nbformat": 4,
 "nbformat_minor": 5
}
