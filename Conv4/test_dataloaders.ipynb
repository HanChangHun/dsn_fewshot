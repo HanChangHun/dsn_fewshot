{
 "cells": [
  {
   "cell_type": "markdown",
   "id": "d5887090-7815-4970-9f72-42bbc74c1a74",
   "metadata": {},
   "source": [
    "# Test dataset loaders"
   ]
  },
  {
   "cell_type": "code",
   "execution_count": null,
   "id": "07e02bd5-b28e-4c0b-a431-d96ebe0a9cc6",
   "metadata": {},
   "outputs": [],
   "source": [
    "import numpy as np"
   ]
  },
  {
   "cell_type": "markdown",
   "id": "8aa4b7f8-061f-4efe-8f53-f7b696734d8b",
   "metadata": {},
   "source": [
    "## mini imagenet"
   ]
  },
  {
   "cell_type": "markdown",
   "id": "cadb22f6-fc23-42be-88a3-176da58b992b",
   "metadata": {},
   "source": [
    "### datamanager"
   ]
  },
  {
   "cell_type": "code",
   "execution_count": 1,
   "id": "e2509473-7848-4098-af73-90104ab93f3d",
   "metadata": {},
   "outputs": [],
   "source": [
    "import os.path as osp\n",
    "from PIL import Image\n",
    "\n",
    "from torch.utils.data import Dataset\n",
    "from torchvision import transforms\n",
    "\n",
    "ROOT_PATH = './materials/'\n",
    "IMG_PATH = \n",
    "\n",
    "setname = 'train'\n",
    "\n",
    "csv_path = osp.join(ROOT_PATH, setname + '.csv')\n",
    "lines = [x.strip() for x in open(csv_path, 'r').readlines()][1:]\n",
    "IMG_PATH = \"./datasets/mini-imagenet/\"\n",
    "data = []\n",
    "label = []\n",
    "lb = -1\n",
    "\n",
    "wnids = []\n",
    "\n",
    "for l in lines:\n",
    "    name, wnid = l.split(',')\n",
    "    path = osp.join(IMG_PATH, 'images', name)\n",
    "    if wnid not in wnids:\n",
    "        wnids.append(wnid)\n",
    "        lb += 1\n",
    "    data.append(path)\n",
    "    label.append(lb)\n",
    "\n",
    "data = data\n",
    "label = label"
   ]
  },
  {
   "cell_type": "code",
   "execution_count": 10,
   "id": "80ac2c3f-63e2-4b3a-9f69-97a07f5d8ef6",
   "metadata": {},
   "outputs": [
    {
     "data": {
      "text/plain": [
       "(array([ 0,  1,  2,  3,  4,  5,  6,  7,  8,  9, 10, 11, 12, 13, 14, 15, 16,\n",
       "        17, 18, 19, 20, 21, 22, 23, 24, 25, 26, 27, 28, 29, 30, 31, 32, 33,\n",
       "        34, 35, 36, 37, 38, 39, 40, 41, 42, 43, 44, 45, 46, 47, 48, 49, 50,\n",
       "        51, 52, 53, 54, 55, 56, 57, 58, 59, 60, 61, 62, 63]),\n",
       " array([600, 600, 600, 600, 600, 600, 600, 600, 600, 600, 600, 600, 600,\n",
       "        600, 600, 600, 600, 600, 600, 600, 600, 600, 600, 600, 600, 600,\n",
       "        600, 600, 600, 600, 600, 600, 600, 600, 600, 600, 600, 600, 600,\n",
       "        600, 600, 600, 600, 600, 600, 600, 600, 600, 600, 600, 600, 600,\n",
       "        600, 600, 600, 600, 600, 600, 600, 600, 600, 600, 600, 600]))"
      ]
     },
     "execution_count": 10,
     "metadata": {},
     "output_type": "execute_result"
    }
   ],
   "source": [
    "np.unique(label, return_counts=True)"
   ]
  },
  {
   "cell_type": "code",
   "execution_count": null,
   "id": "9835181d-732f-49ca-98f9-cc464a85d07a",
   "metadata": {},
   "outputs": [],
   "source": []
  },
  {
   "cell_type": "markdown",
   "id": "f2754b81-adfd-4f38-ba4f-6b0d87e5a5a9",
   "metadata": {},
   "source": [
    "### train"
   ]
  },
  {
   "cell_type": "code",
   "execution_count": 11,
   "id": "48413fed-023c-4755-8c4f-f1c6fbae493c",
   "metadata": {},
   "outputs": [],
   "source": [
    "import os.path as osp\n",
    "import os\n",
    "\n",
    "import torch\n",
    "import torch.nn.functional as F\n",
    "from torch.utils.data import DataLoader\n",
    "from torch.utils.tensorboard import SummaryWriter\n",
    "\n",
    "from datamanager.miniimagenet_aug import MiniImageNet\n",
    "from samplers import CategoriesSampler\n",
    "from convnet import ConvNet\n",
    "from algorithm.subspace_projection import Subspace_Projection\n",
    "from utils import pprint, set_gpu, Averager, Timer, count_acc, flip"
   ]
  },
  {
   "cell_type": "code",
   "execution_count": 16,
   "id": "3793b693-fcfd-4daf-8769-184179739a0f",
   "metadata": {},
   "outputs": [],
   "source": [
    "shot = 1\n",
    "query = 15\n",
    "train_way = 5\n",
    "test_way = 5\n",
    "save_path = './save/subspace-5w5sdiscriminative'\n",
    "saved_model_path = './save/subspace-5w5sdiscriminative/max-acc.pth'\n",
    "data_path = './datasets/mini-imagenet'\n",
    "gpu = 0\n",
    "lamb = 0.03"
   ]
  },
  {
   "cell_type": "code",
   "execution_count": 13,
   "id": "4e28cce3-860f-4054-8d4c-af9026d84976",
   "metadata": {},
   "outputs": [],
   "source": [
    "subspace_dim = shot - 1"
   ]
  },
  {
   "cell_type": "code",
   "execution_count": 14,
   "id": "9d227e1a-6fff-4006-a0d3-2eaebf8b4035",
   "metadata": {},
   "outputs": [],
   "source": [
    "trainset = MiniImageNet('train', data_path)\n",
    "train_sampler = CategoriesSampler(trainset.label, 100,\n",
    "                                  train_way, shot + query)\n",
    "train_loader = DataLoader(dataset=trainset, batch_sampler=train_sampler,\n",
    "                          num_workers=8, pin_memory=True)\n",
    "\n",
    "model = ConvNet().cuda()\n",
    "model.load_state_dict(torch.load(saved_model_path))\n",
    "\n",
    "projection_pro = Subspace_Projection(subspace_dim)"
   ]
  },
  {
   "cell_type": "code",
   "execution_count": null,
   "id": "72463cca-9fea-42b2-9a9d-4927e5df733a",
   "metadata": {},
   "outputs": [],
   "source": [
    "for i, batch in enumerate(train_loader, 1):\n",
    "    p = shot * train_way\n",
    "    qq = p + query * train_way\n",
    "    data_shot, data_query = data[:p], data[p:qq]\n",
    "    print(f\"p: {p}, qq: {qq}, \")\n",
    "    print(f\"batch[1]: {batch[1]}\")\n",
    "    print(f\"data_shot: {data_shot}\")\n",
    "    # print(f\"data_query: {data_query}\")\n",
    "    if i > 5:\n",
    "        break\n",
    "    "
   ]
  },
  {
   "cell_type": "code",
   "execution_count": null,
   "id": "8de9de8f-4d2b-4919-8587-8bb0cbcb7dfa",
   "metadata": {},
   "outputs": [],
   "source": []
  },
  {
   "cell_type": "code",
   "execution_count": null,
   "id": "02f64876-aaa1-4d20-9583-44beeae9d52d",
   "metadata": {},
   "outputs": [],
   "source": []
  },
  {
   "cell_type": "code",
   "execution_count": null,
   "id": "bd4ef9cf-07c0-4253-8055-b76caf691904",
   "metadata": {},
   "outputs": [],
   "source": []
  }
 ],
 "metadata": {
  "kernelspec": {
   "display_name": "pt11",
   "language": "python",
   "name": "pt11"
  },
  "language_info": {
   "codemirror_mode": {
    "name": "ipython",
    "version": 3
   },
   "file_extension": ".py",
   "mimetype": "text/x-python",
   "name": "python",
   "nbconvert_exporter": "python",
   "pygments_lexer": "ipython3",
   "version": "3.8.10"
  }
 },
 "nbformat": 4,
 "nbformat_minor": 5
}
