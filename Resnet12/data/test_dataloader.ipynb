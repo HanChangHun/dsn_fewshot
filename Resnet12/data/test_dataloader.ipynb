{
 "cells": [
  {
   "cell_type": "code",
   "execution_count": 4,
   "id": "ccb0f2fb-976b-436f-a3ee-1fd2230d1ba2",
   "metadata": {},
   "outputs": [],
   "source": [
    "from __future__ import print_function\n",
    "\n",
    "import os\n",
    "import os.path\n",
    "import numpy as np\n",
    "import random\n",
    "import pickle\n",
    "import json\n",
    "import math\n",
    "\n",
    "import torch\n",
    "import torch.utils.data as data\n",
    "import torchvision\n",
    "import torchvision.datasets as datasets\n",
    "import torchvision.transforms as transforms\n",
    "import torchnet as tnt\n",
    "\n",
    "import h5py\n",
    "\n",
    "from PIL import Image\n",
    "from PIL import ImageEnhance\n",
    "\n",
    "from pdb import set_trace as breakpoint"
   ]
  },
  {
   "cell_type": "code",
   "execution_count": 6,
   "id": "23ec9da8-e65e-4237-8d85-b2570168688c",
   "metadata": {},
   "outputs": [],
   "source": [
    "def load_data(file):\n",
    "    try:\n",
    "        with open(file, 'rb') as fo:\n",
    "            data = pickle.load(fo)\n",
    "        return data\n",
    "    except:\n",
    "        with open(file, 'rb') as f:\n",
    "            u = pickle._Unpickler(f)\n",
    "            u.encoding = 'latin1'\n",
    "            data = u.load()\n",
    "        return data"
   ]
  },
  {
   "cell_type": "code",
   "execution_count": 8,
   "id": "6111ba7d-933e-4aeb-b0a5-1ebddf24147a",
   "metadata": {},
   "outputs": [],
   "source": [
    "_CIFAR_FS_DATASET_DIR = './datasets/cifar/'"
   ]
  },
  {
   "cell_type": "code",
   "execution_count": 9,
   "id": "16bfec8d-41b6-49d2-8613-26e88c2942e0",
   "metadata": {},
   "outputs": [],
   "source": [
    "file_train_categories_train_phase = os.path.join(\n",
    "    _CIFAR_FS_DATASET_DIR,\n",
    "    'train')\n",
    "    \n",
    "data_train = load_data(file_train_categories_train_phase)"
   ]
  },
  {
   "cell_type": "code",
   "execution_count": 11,
   "id": "d4deefd5-4dc6-44ce-9705-81b4211d887b",
   "metadata": {},
   "outputs": [
    {
     "data": {
      "text/plain": [
       "dict_keys(['filenames', 'batch_label', 'fine_labels', 'coarse_labels', 'data'])"
      ]
     },
     "execution_count": 11,
     "metadata": {},
     "output_type": "execute_result"
    }
   ],
   "source": [
    "data_train.keys()"
   ]
  },
  {
   "cell_type": "code",
   "execution_count": 24,
   "id": "c861c499-fa78-4992-a47b-a9d6ae5bb8dd",
   "metadata": {},
   "outputs": [
    {
     "data": {
      "text/plain": [
       "(3072,)"
      ]
     },
     "execution_count": 24,
     "metadata": {},
     "output_type": "execute_result"
    }
   ],
   "source": [
    "data_train['data'][3].shape"
   ]
  },
  {
   "cell_type": "code",
   "execution_count": 13,
   "id": "407cef0c-3ff0-4de9-8492-fb36891bf45d",
   "metadata": {},
   "outputs": [],
   "source": [
    "test_dataset = os.path.join(\n",
    "    _CIFAR_FS_DATASET_DIR,\n",
    "    'test')\n",
    "    \n",
    "data_test = load_data(test_dataset)"
   ]
  },
  {
   "cell_type": "code",
   "execution_count": 14,
   "id": "5e9c671e-97b2-4dd1-bf02-9f94a9357cd7",
   "metadata": {},
   "outputs": [
    {
     "data": {
      "text/plain": [
       "dict_keys(['filenames', 'batch_label', 'fine_labels', 'coarse_labels', 'data'])"
      ]
     },
     "execution_count": 14,
     "metadata": {},
     "output_type": "execute_result"
    }
   ],
   "source": [
    "data_test.keys()"
   ]
  },
  {
   "cell_type": "code",
   "execution_count": 15,
   "id": "88f9c0d5-2ccd-481b-9bfe-6e536a47cb6f",
   "metadata": {},
   "outputs": [],
   "source": [
    "meta_dataset = os.path.join(\n",
    "    _CIFAR_FS_DATASET_DIR,\n",
    "    'meta')\n",
    "    \n",
    "data_meta = load_data(meta_dataset)"
   ]
  },
  {
   "cell_type": "code",
   "execution_count": 18,
   "id": "6306371f-78e0-4a23-9de0-7429229fed32",
   "metadata": {},
   "outputs": [
    {
     "data": {
      "text/plain": [
       "{'fine_label_names': ['apple',\n",
       "  'aquarium_fish',\n",
       "  'baby',\n",
       "  'bear',\n",
       "  'beaver',\n",
       "  'bed',\n",
       "  'bee',\n",
       "  'beetle',\n",
       "  'bicycle',\n",
       "  'bottle',\n",
       "  'bowl',\n",
       "  'boy',\n",
       "  'bridge',\n",
       "  'bus',\n",
       "  'butterfly',\n",
       "  'camel',\n",
       "  'can',\n",
       "  'castle',\n",
       "  'caterpillar',\n",
       "  'cattle',\n",
       "  'chair',\n",
       "  'chimpanzee',\n",
       "  'clock',\n",
       "  'cloud',\n",
       "  'cockroach',\n",
       "  'couch',\n",
       "  'crab',\n",
       "  'crocodile',\n",
       "  'cup',\n",
       "  'dinosaur',\n",
       "  'dolphin',\n",
       "  'elephant',\n",
       "  'flatfish',\n",
       "  'forest',\n",
       "  'fox',\n",
       "  'girl',\n",
       "  'hamster',\n",
       "  'house',\n",
       "  'kangaroo',\n",
       "  'keyboard',\n",
       "  'lamp',\n",
       "  'lawn_mower',\n",
       "  'leopard',\n",
       "  'lion',\n",
       "  'lizard',\n",
       "  'lobster',\n",
       "  'man',\n",
       "  'maple_tree',\n",
       "  'motorcycle',\n",
       "  'mountain',\n",
       "  'mouse',\n",
       "  'mushroom',\n",
       "  'oak_tree',\n",
       "  'orange',\n",
       "  'orchid',\n",
       "  'otter',\n",
       "  'palm_tree',\n",
       "  'pear',\n",
       "  'pickup_truck',\n",
       "  'pine_tree',\n",
       "  'plain',\n",
       "  'plate',\n",
       "  'poppy',\n",
       "  'porcupine',\n",
       "  'possum',\n",
       "  'rabbit',\n",
       "  'raccoon',\n",
       "  'ray',\n",
       "  'road',\n",
       "  'rocket',\n",
       "  'rose',\n",
       "  'sea',\n",
       "  'seal',\n",
       "  'shark',\n",
       "  'shrew',\n",
       "  'skunk',\n",
       "  'skyscraper',\n",
       "  'snail',\n",
       "  'snake',\n",
       "  'spider',\n",
       "  'squirrel',\n",
       "  'streetcar',\n",
       "  'sunflower',\n",
       "  'sweet_pepper',\n",
       "  'table',\n",
       "  'tank',\n",
       "  'telephone',\n",
       "  'television',\n",
       "  'tiger',\n",
       "  'tractor',\n",
       "  'train',\n",
       "  'trout',\n",
       "  'tulip',\n",
       "  'turtle',\n",
       "  'wardrobe',\n",
       "  'whale',\n",
       "  'willow_tree',\n",
       "  'wolf',\n",
       "  'woman',\n",
       "  'worm'],\n",
       " 'coarse_label_names': ['aquatic_mammals',\n",
       "  'fish',\n",
       "  'flowers',\n",
       "  'food_containers',\n",
       "  'fruit_and_vegetables',\n",
       "  'household_electrical_devices',\n",
       "  'household_furniture',\n",
       "  'insects',\n",
       "  'large_carnivores',\n",
       "  'large_man-made_outdoor_things',\n",
       "  'large_natural_outdoor_scenes',\n",
       "  'large_omnivores_and_herbivores',\n",
       "  'medium_mammals',\n",
       "  'non-insect_invertebrates',\n",
       "  'people',\n",
       "  'reptiles',\n",
       "  'small_mammals',\n",
       "  'trees',\n",
       "  'vehicles_1',\n",
       "  'vehicles_2']}"
      ]
     },
     "execution_count": 18,
     "metadata": {},
     "output_type": "execute_result"
    }
   ],
   "source": [
    "data_meta"
   ]
  },
  {
   "cell_type": "code",
   "execution_count": null,
   "id": "261eb52d-6d0a-45d4-aea4-b77774ebfe3f",
   "metadata": {},
   "outputs": [],
   "source": []
  }
 ],
 "metadata": {
  "kernelspec": {
   "display_name": "pt11",
   "language": "python",
   "name": "pt11"
  },
  "language_info": {
   "codemirror_mode": {
    "name": "ipython",
    "version": 3
   },
   "file_extension": ".py",
   "mimetype": "text/x-python",
   "name": "python",
   "nbconvert_exporter": "python",
   "pygments_lexer": "ipython3",
   "version": "3.8.10"
  }
 },
 "nbformat": 4,
 "nbformat_minor": 5
}
